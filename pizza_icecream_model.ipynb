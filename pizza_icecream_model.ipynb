{
 "cells": [
  {
   "cell_type": "markdown",
   "metadata": {},
   "source": [
    "<h3>Modelo de clasificación de imagenes Pizza vs. Helado</h3>\n",
    "<p>Aldo Tena García - A01275222</p>"
   ]
  },
  {
   "cell_type": "markdown",
   "metadata": {},
   "source": [
    "<h4>Selección del dataset</h4>\n",
    "<p>El dataset seleccionado para este modelo es \"Pizza vs Ice Cream\", fue descargado de la plataforma kaggle <ins>>(https://www.kaggle.com/datasets/hemendrasr/pizza-vs-ice-cream)</ins> el 14 de mayo del 2024.</p>\n",
    "<p>La razón prinicipal para la selección de este dataset fue el objetivo de comparar 2 elementos diferentes usando el modelo a desarrollar, en este caso 2 alimentos diferentes, ademas de la estructura ya definida del set (con las carpetas train y test con sus respectivos tags) y la cantidad inicial de imagenes contenidas en el dataset (aproximadamente 500 imagenes de train y 50 de test).</p>"
   ]
  }
 ],
 "metadata": {
  "language_info": {
   "name": "python"
  }
 },
 "nbformat": 4,
 "nbformat_minor": 2
}
