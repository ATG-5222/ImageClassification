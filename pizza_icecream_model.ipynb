{
 "cells": [
  {
   "cell_type": "markdown",
   "metadata": {},
   "source": [
    "<h3>Modelo de clasificación de imagenes Pizza vs. Helado</h3>\n",
    "<p>Aldo Tena García - A01275222</p>"
   ]
  },
  {
   "cell_type": "markdown",
   "metadata": {},
   "source": [
    "<h4>Selección del dataset</h4>\n",
    "<p>El dataset seleccionado para este modelo es \"Pizza vs Ice Cream\", fue descargado de la plataforma kaggle <ins>>(https://www.kaggle.com/datasets/hemendrasr/pizza-vs-ice-cream)</ins> el 14 de mayo del 2024.</p>\n",
    "<p>La razón prinicipal para la selección de este dataset fue el objetivo de comparar 2 elementos diferentes usando el modelo a desarrollar, en este caso 2 alimentos diferentes, ademas de la estructura ya definida del set (con las carpetas train y test con sus respectivos tags) y la cantidad inicial de imagenes contenidas en el dataset (aproximadamente 500 imagenes de train y 50 de test).</p>\n",
    "<p>Después de ver nuevamente la cantidad de imagenes necesarias para entrenar y verificar el correcto funcionamiento del modelo se modifico la cantidad de imagenes presentes dentro de los datasets para dejar 200 imagenes dentro de test y de train respectivamente. Para poder entrenar de la mejor posible el moodelo se hara uso de tecnicas de data augmentation en memoria RAM.</p>"
   ]
  },
  {
   "cell_type": "code",
   "execution_count": 2,
   "metadata": {},
   "outputs": [
    {
     "name": "stderr",
     "output_type": "stream",
     "text": [
      "c:\\Users\\atg00\\AppData\\Local\\Programs\\Python\\Python310\\lib\\site-packages\\scipy\\__init__.py:146: UserWarning: A NumPy version >=1.17.3 and <1.25.0 is required for this version of SciPy (detected version 1.26.4\n",
      "  warnings.warn(f\"A NumPy version >={np_minversion} and <{np_maxversion}\"\n"
     ]
    }
   ],
   "source": [
    "#Importar las librerias necesarias\n",
    "import matplotlib.pyplot as plt\n",
    "import numpy as np\n",
    "from PIL import Image\n",
    "import os\n",
    "import tensorflow as tf\n",
    "from tensorflow.keras.preprocessing.image import ImageDataGenerator\n",
    "from tensorflow.keras import optimizers\n",
    "from tensorflow.keras import models\n",
    "from tensorflow.keras import layers"
   ]
  },
  {
   "cell_type": "code",
   "execution_count": 3,
   "metadata": {},
   "outputs": [],
   "source": [
    "#Establecer los directorios de las imágenes\n",
    "#Directorio base\n",
    "base_dir = 'D:\\DocumentosDD\\Profesional\\8vo Semestre\\Aplicaciones avanzadas\\Modulo 2 - IA\\ImageClassification'\n",
    "#Directorios de train y test\n",
    "train_dir = os.path.join(base_dir,'train')\n",
    "test_dir = os.path.join(base_dir, 'test')\n",
    "#Directorios de train para pizza y helado\n",
    "train_pizza = os.path.join(train_dir,'pizza')\n",
    "train_icecream = os.path.join(train_dir, 'icecream')\n",
    "#Directorios de test para pizza y helado\n",
    "test_pizza = os.path.join(test_dir,'pizza')\n",
    "test_icecream = os.path.join(test_dir, 'icecream')"
   ]
  },
  {
   "cell_type": "code",
   "execution_count": 4,
   "metadata": {},
   "outputs": [
    {
     "name": "stderr",
     "output_type": "stream",
     "text": [
      "C:\\Users\\atg00\\AppData\\Local\\Temp\\ipykernel_28184\\2960714246.py:9: DeprecationWarning: ANTIALIAS is deprecated and will be removed in Pillow 10 (2023-07-01). Use Resampling.LANCZOS instead.\n",
      "  resized_image = image.resize(size, Image.ANTIALIAS)\n"
     ]
    }
   ],
   "source": [
    "#Tamaño al que quieres redimensionar las imágenes (en píxeles)\n",
    "size = (300, 300) \n",
    "#Función para iterar sobre todos los archivos en la carpeta\n",
    "def resize(folder):\n",
    "    for file in os.listdir(folder):\n",
    "        if file.endswith(\".jpg\"):\n",
    "            full_path = os.path.join(folder, file)\n",
    "            image = Image.open(full_path)\n",
    "            resized_image = image.resize(size, Image.ANTIALIAS)\n",
    "            resized_image.save(os.path.join(folder,file))\n",
    "#Redimensionar test-pizza\n",
    "resize(test_pizza)\n",
    "#Redimensionar test-icecream\n",
    "resize(test_icecream)\n",
    "#Redimensionar train-pizza\n",
    "resize(train_pizza)\n",
    "#Redimensionar train-icecream\n",
    "resize(train_icecream)"
   ]
  },
  {
   "cell_type": "code",
   "execution_count": 5,
   "metadata": {},
   "outputs": [],
   "source": [
    "#Configurar los parametros necesarios para el data augmentation\n",
    "train_datagen = ImageDataGenerator(\n",
    "\t\t\t\t\trescale = 1./300,\n",
    "\t\t\t\t\trotation_range = 100,\n",
    "\t\t\t\t\twidth_shift_range = 0.2,\n",
    "\t\t\t\t\theight_shift_range = 0.2,\n",
    "\t\t\t\t\t#shear_range = 0.3,\n",
    "\t\t\t\t\tzoom_range = 0.3,\n",
    "\t\t\t\t\thorizontal_flip = True\n",
    "\t\t\t\t\t)"
   ]
  },
  {
   "cell_type": "code",
   "execution_count": 10,
   "metadata": {},
   "outputs": [
    {
     "name": "stdout",
     "output_type": "stream",
     "text": [
      "Found 400 images belonging to 2 classes.\n"
     ]
    }
   ],
   "source": [
    "#Configurar el train_datagen \n",
    "train_generator = train_datagen.flow_from_directory(\n",
    "\t\t\t\t\ttrain_dir,\n",
    "\t\t\t\t\ttarget_size = (300,300),\n",
    "\t\t\t\t\tbatch_size = 200,\n",
    "\t\t\t\t\tclass_mode ='binary',\n",
    "\t\t\t\t\t)"
   ]
  }
 ],
 "metadata": {
  "kernelspec": {
   "display_name": "Python 3",
   "language": "python",
   "name": "python3"
  },
  "language_info": {
   "codemirror_mode": {
    "name": "ipython",
    "version": 3
   },
   "file_extension": ".py",
   "mimetype": "text/x-python",
   "name": "python",
   "nbconvert_exporter": "python",
   "pygments_lexer": "ipython3",
   "version": "3.10.0"
  }
 },
 "nbformat": 4,
 "nbformat_minor": 2
}
